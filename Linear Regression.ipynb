This repository contains Jupyter notebooks that analyze two different datasets: USA housing prices and ecommerce customer spending. The analysis involves data visualization, statistical summaries, and building linear regression models to understand key predictors and make predictions.

Datasets

USA_Housing.csv: Contains data on housing prices in the USA with various features such as average area income, house age, number of rooms, number of bedrooms, area population, and house price.
Ecommerce Customers.csv: Contains data on ecommerce customer spending with features like average session length, time spent on the app, time spent on the website, length of membership, and yearly amount spent.
Analysis and Modeling

Housing Price Analysis
Loading Data: Read the dataset and display the first few rows to understand the structure.
Data Overview: Use .info() and .describe() to get basic information and statistical summaries of the data.
Visualization:
Pairplot to visualize relationships between features.
Histogram of house prices.
Heatmap of feature correlations.
Data Preparation: Drop irrelevant columns (like 'Address') and prepare features (X) and target (y) for modeling.
Modeling:
Split data into training and testing sets.
Train a linear regression model.
Evaluate model coefficients to understand feature importance.
Make predictions on the test set.
Visualize predictions and residuals.
Model Evaluation: Calculate and print metrics such as mean absolute error (MAE), mean squared error (MSE), and root mean squared error (RMSE).
Ecommerce Customer Spending Analysis
Loading Data: Read the ecommerce dataset and display the first few rows to understand the structure.
Data Overview: Use .info() and .describe() to get basic information and statistical summaries of the data.
Visualization:
Pairplot to visualize relationships between features.
Jointplots to analyze relationships between Yearly Amount Spent and other features.
Linear model plot to visualize the relationship between Length of Membership and Yearly Amount Spent.
Data Preparation: Prepare features (X) and target (y) for modeling.
Modeling:
Split data into training and testing sets.
Train a linear regression model.
Evaluate model coefficients to understand feature importance.
Make predictions on the test set.
Visualize predictions and residuals.
Model Evaluation: Calculate and print metrics such as mean absolute error (MAE), mean squared error (MSE), and root mean squared error (RMSE).
Key Findings

Housing Prices: Average area income, house age, and number of rooms are significant predictors of house prices.
Ecommerce Customer Spending: Time spent on the mobile app and length of membership are strong predictors of yearly amount spent, suggesting the importance of focusing on the mobile app to increase customer spending and engagement.
